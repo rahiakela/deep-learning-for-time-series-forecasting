{
  "nbformat": 4,
  "nbformat_minor": 0,
  "metadata": {
    "colab": {
      "name": "1-preparing-time-series-data-for-cnn-and-lstm.ipynb",
      "provenance": [],
      "authorship_tag": "ABX9TyOcnqU48Fds0LApSzK6dKf2",
      "include_colab_link": true
    },
    "kernelspec": {
      "name": "python3",
      "display_name": "Python 3"
    }
  },
  "cells": [
    {
      "cell_type": "markdown",
      "metadata": {
        "id": "view-in-github",
        "colab_type": "text"
      },
      "source": [
        "<a href=\"https://colab.research.google.com/github/rahiakela/deep-learning-for-time-series-forecasting/blob/part-3-deep-learning-methods/1_preparing_time_series_data_for_cnn_and_lstm.ipynb\" target=\"_parent\"><img src=\"https://colab.research.google.com/assets/colab-badge.svg\" alt=\"Open In Colab\"/></a>"
      ]
    },
    {
      "cell_type": "markdown",
      "metadata": {
        "id": "szrTry_VwCCB",
        "colab_type": "text"
      },
      "source": [
        "# Preparing Time Series Data for CNNs and LSTMs"
      ]
    },
    {
      "cell_type": "markdown",
      "metadata": {
        "id": "hnTR5fh3wYis",
        "colab_type": "text"
      },
      "source": [
        "Time series data must be transformed before it can be used to fit a supervised learning model. In this form, the data can be used immediately to fit a supervised machine learning algorithm and even a Multilayer Perceptron neural network. \n",
        "\n",
        "One further transformation is required in order to ready the data for fitting a Convolutional Neural Network (CNN) or Long Short-Term Memory (LSTM) Neural Network. Speciffically, the two-dimensional structure of the supervised\n",
        "learning data must be transformed to a three-dimensional structure. \n",
        "\n",
        "This is perhaps the largest sticking point for practitioners looking to implement deep learning methods for time series forecasting. \n",
        "\n",
        "We will discover exactly how to transform a time series data set into a three-dimensional structure ready for fitting a CNN or LSTM model.\n",
        "\n",
        "* How to transform a time series dataset into a two-dimensional supervised learning format.\n",
        "* How to transform a two-dimensional time series dataset into a three-dimensional structure suitable for CNNs and LSTMs.\n",
        "* How to step through a worked example of splitting a very long time series into subsequences ready for training a CNN or LSTM model."
      ]
    },
    {
      "cell_type": "markdown",
      "metadata": {
        "id": "XMjdgNetxAN3",
        "colab_type": "text"
      },
      "source": [
        "## Setup"
      ]
    },
    {
      "cell_type": "code",
      "metadata": {
        "id": "5aSxvjgkw8ZB",
        "colab_type": "code",
        "colab": {}
      },
      "source": [
        "from __future__ import absolute_import, division, print_function, unicode_literals\n",
        "\n",
        "try:\n",
        "  # %tensorflow_version only exists in Colab.\n",
        "  %tensorflow_version 2.x\n",
        "except Exception:\n",
        "  pass\n",
        "import tensorflow as tf\n",
        "from tensorflow import keras\n",
        "\n",
        "import numpy as np\n",
        "import pandas as pd\n",
        "\n",
        "import matplotlib.pyplot as plt\n",
        "%matplotlib inline"
      ],
      "execution_count": 0,
      "outputs": []
    },
    {
      "cell_type": "markdown",
      "metadata": {
        "id": "kInTkXbVw8y9",
        "colab_type": "text"
      },
      "source": [
        "## Time Series to Supervised"
      ]
    },
    {
      "cell_type": "markdown",
      "metadata": {
        "id": "ORsCwVUQw98l",
        "colab_type": "text"
      },
      "source": [
        "Time series data requires preparation before it can be used to train a supervised learning model, such as an LSTM neural network. \n",
        "\n",
        "For example, a univariate time series is represented as a vector of observations:\n",
        "\n",
        "```python\n",
        "[1, 2, 3, 4, 5, 6, 7, 8, 9, 10]\n",
        "```\n",
        "\n",
        "A supervised learning algorithm requires that data is provided as a collection of samples,where each sample has an input component (X) and an output component (y).\n",
        "\n",
        "```python\n",
        "X,                y\n",
        "sample input,    sample output\n",
        "sample input,    sample output\n",
        "sample input,    sample output\n",
        "...\n",
        "```\n",
        "\n",
        "The model will learn how to map inputs to outputs from the provided examples.\n",
        "\n",
        "$$y = f(X)$$\n",
        "\n",
        "A time series must be transformed into samples with input and output components. The transform both informs what the model will learn and how you intend to use the model in the future when making predictions, e.g. what is required to make a prediction (X) and what prediction is made (y). \n",
        "\n",
        "For a univariate time series problem where we are interested in one-step\n",
        "predictions, the observations at prior time steps, so-called lag observations, are used as input and the output is the observation at the current time step. \n",
        "\n",
        "For example, the above 10-step univariate series can be expressed as a supervised learning problem with three time steps for input and one step as output, as follows:\n",
        "\n",
        "```python\n",
        "X,          y\n",
        "[1, 2, 3], [4]\n",
        "[2, 3, 4], [5]\n",
        "[3, 4, 5], [6]\n",
        "...\n",
        "```\n",
        "\n",
        "You can write code to perform this transform yourself and that is the general\n",
        "approach and recommend for greater understanding of your data and control over the transformation process. \n",
        "\n",
        "The split sequence() function below implements this behavior and will split a given univariate sequence into multiple samples where each sample has a specified number of time steps and the output is a single time step.\n"
      ]
    },
    {
      "cell_type": "code",
      "metadata": {
        "id": "lVv34XH8y3pU",
        "colab_type": "code",
        "colab": {}
      },
      "source": [
        "# split a univariate sequence into samples\n",
        "def split_sequence(sequence, n_steps):\n",
        "  X, y = list(), list()\n",
        "  for i in range(len(sequence)):\n",
        "    # find the end of this pattern\n",
        "    end_ix = i + n_steps\n",
        "    # check if we are beyond the sequence\n",
        "    if end_ix > len(sequence) - 1:\n",
        "      break\n",
        "    # gather input and output parts of the pattern\n",
        "    seq_x, seq_y = sequence[i:end_ix], sequence[end_ix]\n",
        "    X.append(seq_x)\n",
        "    y.append(seq_y)\n",
        "  return np.array(X), np.array(y)"
      ],
      "execution_count": 0,
      "outputs": []
    },
    {
      "cell_type": "markdown",
      "metadata": {
        "id": "x5B0Dqab1Yr3",
        "colab_type": "text"
      },
      "source": [
        "After you have transformed your data into a form suitable for training a supervised learning model it will be represented as rows and columns. Each column will represent a feature to the model and may correspond to a separate lag observation. Each row will represent a sample and will correspond to a new example with input and output components.\n",
        "\n",
        "* **Feature**: A column in a dataset, such as a lag observation for a time series dataset.\n",
        "* **Sample**: A row in a dataset, such as an input and output sequence for a time series dataset.\n",
        "\n",
        "For example, our univariate time series may look as follows:\n",
        "\n",
        "```python\n",
        "x1,  x2,  x3,  y\n",
        "1,   2,   3,   4\n",
        "2,   3,   4,   5\n",
        "3,   4,   5,   6\n",
        "................\n",
        "................\n",
        "```\n",
        "\n",
        "The dataset will be represented in Python using a NumPy array. The array will have two dimensions. The length of each dimension is referred to as the shape of the array. \n",
        "\n",
        "For example, a time series with 3 inputs, 1 output will be transformed into a supervised learning problem with 4 columns, or really 3 columns for the input data and 1 for the output data. \n",
        "\n",
        "If we have 7 rows and 3 columns for the input data then the shape of the dataset would be [7, 3], or 7 samples and 3 features. We can make this concrete by transforming our small contrived dataset."
      ]
    },
    {
      "cell_type": "code",
      "metadata": {
        "id": "kw8GFWKM0kiR",
        "colab_type": "code",
        "colab": {
          "base_uri": "https://localhost:8080/",
          "height": 177
        },
        "outputId": "61ee5537-97a4-4437-bd7d-68107b24ee96"
      },
      "source": [
        "# define univariate time series\n",
        "series = np.array([1, 2, 3, 4, 5, 6, 7, 8, 9, 10])\n",
        "print(series)\n",
        "\n",
        "# transform to a supervised learning problem\n",
        "X, y = split_sequence(series, 3)\n",
        "print(X.shape, y.shape)\n",
        "\n",
        "# show each sample\n",
        "for i in range(len(X)):\n",
        "  print(X[i], y[i])"
      ],
      "execution_count": 7,
      "outputs": [
        {
          "output_type": "stream",
          "text": [
            "[ 1  2  3  4  5  6  7  8  9 10]\n",
            "(7, 3) (7,)\n",
            "[1 2 3] 4\n",
            "[2 3 4] 5\n",
            "[3 4 5] 6\n",
            "[4 5 6] 7\n",
            "[5 6 7] 8\n",
            "[6 7 8] 9\n",
            "[7 8 9] 10\n"
          ],
          "name": "stdout"
        }
      ]
    },
    {
      "cell_type": "markdown",
      "metadata": {
        "id": "tYNzqAZx6Tsa",
        "colab_type": "text"
      },
      "source": [
        "We can see that for the chosen representation that we have 7 samples for the\n",
        "input and output and 3 input features. The shape of the output is 7 samples represented as (7,) indicating that the array is a single column. It could also be represented as a two-dimensional array with 7 rows and 1 column [7, 1].\n",
        "\n",
        "Data in this form can be used directly to train a simple neural network, such as a Multilayer Perceptron. The difficulty for beginners comes when trying to prepare this data for CNNs and LSTMs that require data to have a three-dimensional structure instead of the two-dimensional structure described so far."
      ]
    },
    {
      "cell_type": "markdown",
      "metadata": {
        "id": "NUMZ_lEJ6fAD",
        "colab_type": "text"
      },
      "source": [
        "## 3D Data Preparation Basics"
      ]
    },
    {
      "cell_type": "markdown",
      "metadata": {
        "id": "djbd23Ck6hdj",
        "colab_type": "text"
      },
      "source": [
        ""
      ]
    },
    {
      "cell_type": "code",
      "metadata": {
        "id": "WfGFjg9k2wvf",
        "colab_type": "code",
        "colab": {}
      },
      "source": [
        ""
      ],
      "execution_count": 0,
      "outputs": []
    }
  ]
}