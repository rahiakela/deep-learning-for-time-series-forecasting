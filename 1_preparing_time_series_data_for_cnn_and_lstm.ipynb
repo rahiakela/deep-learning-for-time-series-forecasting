{
  "nbformat": 4,
  "nbformat_minor": 0,
  "metadata": {
    "colab": {
      "name": "1-preparing-time-series-data-for-cnn-and-lstm.ipynb",
      "provenance": [],
      "toc_visible": true,
      "authorship_tag": "ABX9TyNws/3NJztN68QWedU4joCX",
      "include_colab_link": true
    },
    "kernelspec": {
      "name": "python3",
      "display_name": "Python 3"
    }
  },
  "cells": [
    {
      "cell_type": "markdown",
      "metadata": {
        "id": "view-in-github",
        "colab_type": "text"
      },
      "source": [
        "<a href=\"https://colab.research.google.com/github/rahiakela/deep-learning-for-time-series-forecasting/blob/part-3-deep-learning-methods/1_preparing_time_series_data_for_cnn_and_lstm.ipynb\" target=\"_parent\"><img src=\"https://colab.research.google.com/assets/colab-badge.svg\" alt=\"Open In Colab\"/></a>"
      ]
    },
    {
      "cell_type": "markdown",
      "metadata": {
        "id": "szrTry_VwCCB",
        "colab_type": "text"
      },
      "source": [
        "# Preparing Time Series Data for CNNs and LSTMs"
      ]
    },
    {
      "cell_type": "markdown",
      "metadata": {
        "id": "hnTR5fh3wYis",
        "colab_type": "text"
      },
      "source": [
        "Time series data must be transformed before it can be used to fit a supervised learning model. In this form, the data can be used immediately to fit a supervised machine learning algorithm and even a Multilayer Perceptron neural network. \n",
        "\n",
        "One further transformation is required in order to ready the data for fitting a Convolutional Neural Network (CNN) or Long Short-Term Memory (LSTM) Neural Network. Speciffically, the two-dimensional structure of the supervised\n",
        "learning data must be transformed to a three-dimensional structure. \n",
        "\n",
        "This is perhaps the largest sticking point for practitioners looking to implement deep learning methods for time series forecasting. \n",
        "\n",
        "We will discover exactly how to transform a time series data set into a three-dimensional structure ready for fitting a CNN or LSTM model.\n",
        "\n",
        "* How to transform a time series dataset into a two-dimensional supervised learning format.\n",
        "* How to transform a two-dimensional time series dataset into a three-dimensional structure suitable for CNNs and LSTMs.\n",
        "* How to step through a worked example of splitting a very long time series into subsequences ready for training a CNN or LSTM model."
      ]
    },
    {
      "cell_type": "markdown",
      "metadata": {
        "id": "XMjdgNetxAN3",
        "colab_type": "text"
      },
      "source": [
        "## Setup"
      ]
    },
    {
      "cell_type": "code",
      "metadata": {
        "id": "5aSxvjgkw8ZB",
        "colab_type": "code",
        "colab": {}
      },
      "source": [
        "from __future__ import absolute_import, division, print_function, unicode_literals\n",
        "\n",
        "try:\n",
        "  # %tensorflow_version only exists in Colab.\n",
        "  %tensorflow_version 2.x\n",
        "except Exception:\n",
        "  pass\n",
        "import tensorflow as tf\n",
        "from tensorflow import keras\n",
        "\n",
        "import numpy as np\n",
        "import pandas as pd\n",
        "\n",
        "import matplotlib.pyplot as plt\n",
        "%matplotlib inline"
      ],
      "execution_count": 0,
      "outputs": []
    },
    {
      "cell_type": "markdown",
      "metadata": {
        "id": "kInTkXbVw8y9",
        "colab_type": "text"
      },
      "source": [
        "## Time Series to Supervised"
      ]
    },
    {
      "cell_type": "markdown",
      "metadata": {
        "id": "ORsCwVUQw98l",
        "colab_type": "text"
      },
      "source": [
        "Time series data requires preparation before it can be used to train a supervised learning model, such as an LSTM neural network. \n",
        "\n",
        "For example, a univariate time series is represented as a vector of observations:\n",
        "\n",
        "```python\n",
        "[1, 2, 3, 4, 5, 6, 7, 8, 9, 10]\n",
        "```\n",
        "\n",
        "A supervised learning algorithm requires that data is provided as a collection of samples,where each sample has an input component (X) and an output component (y).\n",
        "\n",
        "```python\n",
        "X,                y\n",
        "sample input,    sample output\n",
        "sample input,    sample output\n",
        "sample input,    sample output\n",
        "...\n",
        "```\n",
        "\n",
        "The model will learn how to map inputs to outputs from the provided examples.\n",
        "\n",
        "$$y = f(X)$$\n",
        "\n",
        "A time series must be transformed into samples with input and output components. The transform both informs what the model will learn and how you intend to use the model in the future when making predictions, e.g. what is required to make a prediction (X) and what prediction is made (y). \n",
        "\n",
        "For a univariate time series problem where we are interested in one-step\n",
        "predictions, the observations at prior time steps, so-called lag observations, are used as input and the output is the observation at the current time step. \n",
        "\n",
        "For example, the above 10-step univariate series can be expressed as a supervised learning problem with three time steps for input and one step as output, as follows:\n",
        "\n",
        "```python\n",
        "X,          y\n",
        "[1, 2, 3], [4]\n",
        "[2, 3, 4], [5]\n",
        "[3, 4, 5], [6]\n",
        "...\n",
        "```\n",
        "\n",
        "You can write code to perform this transform yourself and that is the general\n",
        "approach and recommend for greater understanding of your data and control over the transformation process. \n",
        "\n",
        "The split sequence() function below implements this behavior and will split a given univariate sequence into multiple samples where each sample has a specified number of time steps and the output is a single time step.\n"
      ]
    },
    {
      "cell_type": "code",
      "metadata": {
        "id": "lVv34XH8y3pU",
        "colab_type": "code",
        "colab": {}
      },
      "source": [
        "# split a univariate sequence into samples\n",
        "def split_sequence(sequence, n_steps):\n",
        "  X, y = list(), list()\n",
        "  for i in range(len(sequence)):\n",
        "    # find the end of this pattern\n",
        "    end_ix = i + n_steps\n",
        "    # check if we are beyond the sequence\n",
        "    if end_ix > len(sequence) - 1:\n",
        "      break\n",
        "    # gather input and output parts of the pattern\n",
        "    seq_x, seq_y = sequence[i:end_ix], sequence[end_ix]\n",
        "    X.append(seq_x)\n",
        "    y.append(seq_y)\n",
        "  return np.array(X), np.array(y)"
      ],
      "execution_count": 0,
      "outputs": []
    },
    {
      "cell_type": "markdown",
      "metadata": {
        "id": "x5B0Dqab1Yr3",
        "colab_type": "text"
      },
      "source": [
        "After you have transformed your data into a form suitable for training a supervised learning model it will be represented as rows and columns. Each column will represent a feature to the model and may correspond to a separate lag observation. Each row will represent a sample and will correspond to a new example with input and output components.\n",
        "\n",
        "* **Feature**: A column in a dataset, such as a lag observation for a time series dataset.\n",
        "* **Sample**: A row in a dataset, such as an input and output sequence for a time series dataset.\n",
        "\n",
        "For example, our univariate time series may look as follows:\n",
        "\n",
        "```python\n",
        "x1,  x2,  x3,  y\n",
        "1,   2,   3,   4\n",
        "2,   3,   4,   5\n",
        "3,   4,   5,   6\n",
        "................\n",
        "................\n",
        "```\n",
        "\n",
        "The dataset will be represented in Python using a NumPy array. The array will have two dimensions. The length of each dimension is referred to as the shape of the array. \n",
        "\n",
        "For example, a time series with 3 inputs, 1 output will be transformed into a supervised learning problem with 4 columns, or really 3 columns for the input data and 1 for the output data. \n",
        "\n",
        "If we have 7 rows and 3 columns for the input data then the shape of the dataset would be [7, 3], or 7 samples and 3 features. We can make this concrete by transforming our small contrived dataset."
      ]
    },
    {
      "cell_type": "code",
      "metadata": {
        "id": "kw8GFWKM0kiR",
        "colab_type": "code",
        "outputId": "a2d802ab-8eb8-42fb-9313-2e1742aaf9e8",
        "colab": {
          "base_uri": "https://localhost:8080/",
          "height": 170
        }
      },
      "source": [
        "# define univariate time series\n",
        "series = np.array([1, 2, 3, 4, 5, 6, 7, 8, 9, 10])\n",
        "print(series)\n",
        "\n",
        "# transform to a supervised learning problem\n",
        "X, y = split_sequence(series, 3)\n",
        "print(X.shape, y.shape)\n",
        "\n",
        "# show each sample\n",
        "for i in range(len(X)):\n",
        "  print(X[i], y[i])"
      ],
      "execution_count": 3,
      "outputs": [
        {
          "output_type": "stream",
          "text": [
            "[ 1  2  3  4  5  6  7  8  9 10]\n",
            "(7, 3) (7,)\n",
            "[1 2 3] 4\n",
            "[2 3 4] 5\n",
            "[3 4 5] 6\n",
            "[4 5 6] 7\n",
            "[5 6 7] 8\n",
            "[6 7 8] 9\n",
            "[7 8 9] 10\n"
          ],
          "name": "stdout"
        }
      ]
    },
    {
      "cell_type": "markdown",
      "metadata": {
        "id": "tYNzqAZx6Tsa",
        "colab_type": "text"
      },
      "source": [
        "We can see that for the chosen representation that we have 7 samples for the\n",
        "input and output and 3 input features. The shape of the output is 7 samples represented as (7,) indicating that the array is a single column. It could also be represented as a two-dimensional array with 7 rows and 1 column [7, 1].\n",
        "\n",
        "Data in this form can be used directly to train a simple neural network, such as a Multilayer Perceptron. The difficulty for beginners comes when trying to prepare this data for CNNs and LSTMs that require data to have a three-dimensional structure instead of the two-dimensional structure described so far."
      ]
    },
    {
      "cell_type": "markdown",
      "metadata": {
        "id": "NUMZ_lEJ6fAD",
        "colab_type": "text"
      },
      "source": [
        "## 3D Data Preparation Basics"
      ]
    },
    {
      "cell_type": "markdown",
      "metadata": {
        "id": "djbd23Ck6hdj",
        "colab_type": "text"
      },
      "source": [
        "Preparing time series data for CNNs and LSTMs requires one additional step beyond transforming the data into a supervised learning problem. This one additional step causes the most confusion for beginners. \n",
        "\n",
        "The input layer for CNN and LSTM models is specified by the input shape argument on the first hidden layer of the network. This too can make things confusing for beginners as intuitively we may expect the first layer defined in the model be the input layer, not the first hidden layer.\n",
        "\n",
        "```python\n",
        "model = Sequential()\n",
        "model.add(LSTM(32))\n",
        "model.add(Dense(1))\n",
        "```\n",
        "\n",
        "The input to every CNN and LSTM layer must be three-dimensional. The three dimensions of this input are:\n",
        "* **Samples**. One sequence is one sample. A batch is comprised of one or more samples.\n",
        "* **Time Steps**. One time step is one point of observation in the sample. One sample is comprised of multiple time steps.\n",
        "* **Features**. One feature is one observation at a time step. One time step is comprised of one or more features.\n",
        "\n",
        "This expected three-dimensional structure of input data is often summarized using the array shape notation of: $[samples, timesteps, features]$.\n",
        "\n",
        "Remember, that the two-dimensional shape of a dataset that we are familiar with from the previous section has the array shape of: $[samples, features]$. this means we are adding the new dimension of time steps. Except, in time series forecasting problems our features are observations at time steps. So, really, we are adding the dimension of features, where a univariate time series has only one feature.\n",
        "\n",
        "When defining the input layer of your LSTM network, the network assumes you have one or more samples and requires that you specify the number of time steps and the number of features. You can do this by specifying a tuple to the input shape argument.\n",
        "\n",
        "For example, the model below defines an input layer that expects 1 or more samples, 3 time steps, and 1 feature.\n",
        "\n",
        "```python\n",
        "model = Sequential()\n",
        "model.add(LSTM(32, input_shape=(3, 1))\n",
        "model.add(Dense(1))\n",
        "```\n",
        "\n",
        "Remember, the first layer in the network is actually the first hidden layer, so in this example 32 refers to the number of units in the first hidden layer. The number of units in the first hidden layer is completely unrelated to the number of samples, time steps or features in your input data.\n",
        "\n",
        "\n",
        "This example maps onto our univariate time series that we split into having 3 input time steps and 1 feature. \n",
        "\n",
        "We may have loaded our time series dataset from CSV or transformed it to a supervised learning problem in memory. It will have a two-dimensional\n",
        "shape and we must convert it to a three-dimensional shape with some number of samples, 3 time steps per sample and 1 feature per time step, or $[?, 3, 1]$.\n",
        "\n",
        "For example, if we have 7 samples and 3 time steps per sample for the input element of our time series, we can reshape it into $[7, 3, 1]$ by providing a tuple to the reshape() function specifying the desired new shape of (7, 3, 1). The array must have enough data to support the new shape, which in this case it does as $[7, 3]$ and $[7, 3, 1]$ are functionally the same thing.\n",
        "\n",
        "```python\n",
        "# transform input from [samples, features] to [samples, timesteps, features]\n",
        "X = X.reshape((7, 3, 1))\n",
        "```\n",
        "\n",
        "A short-cut in reshaping the array is to use the known shapes, such as the number of samples and the number of times steps from the array returned from the call to the X.shape property of the array.\n",
        "\n",
        "* X.shape[0] refers to the number of rows in a 2D array, in this case the\n",
        "number of samples.\n",
        "* X.shape[1] refers to the number of columns in a 2D array, in this case\n",
        "the number of feature that we will use as the number of time steps. \n",
        "\n",
        "The reshape can therefore be written as:\n",
        "\n",
        "```python\n",
        "# transform input from [samples, features] to [samples, timesteps, features]\n",
        "X = X.reshape((X.shape[0], X.shape[1], 1))\n",
        "```\n",
        "\n",
        "We can make this concept concrete with a worked example.\n"
      ]
    },
    {
      "cell_type": "code",
      "metadata": {
        "id": "WfGFjg9k2wvf",
        "colab_type": "code",
        "colab": {
          "base_uri": "https://localhost:8080/",
          "height": 85
        },
        "outputId": "c199865c-8420-480e-a135-b24f071a847c"
      },
      "source": [
        "# split a univariate sequence into samples\n",
        "def split_sequence(sequence, n_steps):\n",
        "  X, y = list(), list()\n",
        "  for i in range(len(sequence)):\n",
        "    # find the end of this pattern\n",
        "    end_ix = i + n_steps\n",
        "    # check if we are beyond the sequence\n",
        "    if end_ix > len(sequence) - 1:\n",
        "      break\n",
        "    # gather input and output parts of the pattern\n",
        "    seq_x, seq_y = sequence[i:end_ix], sequence[end_ix]\n",
        "    X.append(seq_x)\n",
        "    y.append(seq_y)\n",
        "  return np.array(X), np.array(y)\n",
        "\n",
        "# define univariate time series\n",
        "series = np.array([1, 2, 3, 4, 5, 6, 7, 8, 9, 10])\n",
        "print(series)\n",
        "print(series.shape)\n",
        "\n",
        "# transform to a supervised learning problem\n",
        "X, y = split_sequence(series, 3)\n",
        "print(X.shape, y.shape)\n",
        "\n",
        "# transform input from [samples, features] to [samples, timesteps, features]\n",
        "X = X.reshape((X.shape[0], X.shape[1], 1))\n",
        "print(X.shape)"
      ],
      "execution_count": 5,
      "outputs": [
        {
          "output_type": "stream",
          "text": [
            "[ 1  2  3  4  5  6  7  8  9 10]\n",
            "(10,)\n",
            "(7, 3) (7,)\n",
            "(7, 3, 1)\n"
          ],
          "name": "stdout"
        }
      ]
    },
    {
      "cell_type": "markdown",
      "metadata": {
        "id": "ofrE_AgVUNfv",
        "colab_type": "text"
      },
      "source": [
        "Finally, the input element of each sample is reshaped to be three-dimensional suitable for fitting an LSTM or CNN and now has the shape $[7, 3, 1]$ or 7\n",
        "samples, 3 time steps, 1 feature."
      ]
    },
    {
      "cell_type": "markdown",
      "metadata": {
        "id": "-BBZ_TAlUSWR",
        "colab_type": "text"
      },
      "source": [
        "## Data Preparation Example"
      ]
    },
    {
      "cell_type": "markdown",
      "metadata": {
        "id": "rnYwRaK4UYIV",
        "colab_type": "text"
      },
      "source": [
        "Consider that you are in the current situation:\n",
        "\n",
        "``\n",
        "I have two columns in my data file with 5,000 rows, column 1 is time (with 1 hour interval) and column 2 is the number of sales and I am trying to forecast the number of sales for future time steps. Help me to set the number of samples, time steps and features in this data for an LSTM?\n",
        "``\n",
        "\n",
        "There are few problems here:\n",
        "\n",
        "* **Data Shape**: LSTMs expect 3D input, and it can be challenging to get your head around this the first time.\n",
        "* **Sequence Length**: LSTMs don't like sequences of more than 200-400 time steps, so the data will need to be split into subsamples.\n",
        "\n",
        "We will work through this example, broken down into the following 4 steps:\n",
        "\n",
        "1. Load the Data\n",
        "2. Drop the Time Column\n",
        "3. Split Into Samples\n",
        "4. Reshape Subsequences\n",
        "\n"
      ]
    },
    {
      "cell_type": "markdown",
      "metadata": {
        "id": "-gyJQj3q9pi_",
        "colab_type": "text"
      },
      "source": [
        "### Load the Data"
      ]
    },
    {
      "cell_type": "code",
      "metadata": {
        "id": "ZmkMCCYbTyXt",
        "colab_type": "code",
        "colab": {
          "base_uri": "https://localhost:8080/",
          "height": 119
        },
        "outputId": "0440844a-5526-4d48-c426-e746f62dc2ea"
      },
      "source": [
        "# load time series dataset\n",
        "# series = pd.read_csv('filename.csv', header=0, index_col=0)\n",
        "\n",
        "# We will mock loading by defining a new dataset in memory with 5,000 time steps.\n",
        "# define the dataset\n",
        "data = list()\n",
        "n = 5000\n",
        "for i in range(n):\n",
        "  data.append([i+1, (i+1) * 10])\n",
        "data = np.array(data)\n",
        "print(data[:5, :])\n",
        "print(data.shape)"
      ],
      "execution_count": 6,
      "outputs": [
        {
          "output_type": "stream",
          "text": [
            "[[ 1 10]\n",
            " [ 2 20]\n",
            " [ 3 30]\n",
            " [ 4 40]\n",
            " [ 5 50]]\n",
            "(5000, 2)\n"
          ],
          "name": "stdout"
        }
      ]
    },
    {
      "cell_type": "markdown",
      "metadata": {
        "id": "zw-RUV2f_Yd2",
        "colab_type": "text"
      },
      "source": [
        "We can see we have 5,000 rows and 2 columns: a standard univariate time series dataset."
      ]
    },
    {
      "cell_type": "markdown",
      "metadata": {
        "id": "542e2v6C_dG2",
        "colab_type": "text"
      },
      "source": [
        "### Drop the Time Column"
      ]
    },
    {
      "cell_type": "markdown",
      "metadata": {
        "id": "WAjSbvB1_eJF",
        "colab_type": "text"
      },
      "source": [
        "If your time series data is uniform over time and there is no missing values, we can drop the time column. If not, you may want to look at imputing the missing values, resampling the data to a new time scale, or developing a model that can handle missing values. \n",
        "\n",
        "Here, we just drop the first column:"
      ]
    },
    {
      "cell_type": "code",
      "metadata": {
        "id": "8mjJx7WA-616",
        "colab_type": "code",
        "colab": {
          "base_uri": "https://localhost:8080/",
          "height": 34
        },
        "outputId": "4640c8eb-b26b-4d73-cdd4-d85b72484e74"
      },
      "source": [
        "# define the dataset\n",
        "data = list()\n",
        "n = 5000\n",
        "for i in range(n):\n",
        "  data.append([i+1, (i+1) * 10])\n",
        "data = np.array(data)\n",
        "\n",
        "# drop time\n",
        "data = data[:, 1]\n",
        "print(data.shape)"
      ],
      "execution_count": 7,
      "outputs": [
        {
          "output_type": "stream",
          "text": [
            "(5000,)\n"
          ],
          "name": "stdout"
        }
      ]
    },
    {
      "cell_type": "markdown",
      "metadata": {
        "id": "87O-C78ZAmCe",
        "colab_type": "text"
      },
      "source": [
        "### Split Into Samples"
      ]
    },
    {
      "cell_type": "markdown",
      "metadata": {
        "id": "zgUU1CGtAmz7",
        "colab_type": "text"
      },
      "source": [
        "LSTMs need to process samples where each sample is a single sequence of observations. In this case, 5,000 time steps is too long; LSTMs work better with 200-to-400 time steps. Therefore, we need to split the 5,000 time steps into multiple shorter sub-sequences.\n",
        "\n",
        "For example, perhaps you need overlapping sequences, perhaps non-overlapping is good but your model needs state across the sub-sequences and so on. \n",
        "\n",
        "In this example, we will split the 5,000 time steps into 25 sub-sequences of 200 time steps each."
      ]
    },
    {
      "cell_type": "code",
      "metadata": {
        "id": "8I7z_g2GAOOL",
        "colab_type": "code",
        "colab": {
          "base_uri": "https://localhost:8080/",
          "height": 51
        },
        "outputId": "8d85658e-fdbb-462c-fdf5-a92c99bd276f"
      },
      "source": [
        "# define the dataset\n",
        "data = list()\n",
        "n = 5000\n",
        "for i in range(n):\n",
        "  data.append([i+1, (i+1) * 10])\n",
        "data = np.array(data)\n",
        "\n",
        "# drop time\n",
        "data = data[:, 1]\n",
        "print(data.shape)\n",
        "\n",
        "# split into samples (e.g. 5000/200 = 25)\n",
        "samples = list()\n",
        "length = 200\n",
        "\n",
        "# step over the 5,000 in jumps of 200\n",
        "for i in range(0, n , length):\n",
        "  sample = data[i: i + length]  # grab from i to i + 200\n",
        "  samples.append(sample)\n",
        "print(len(samples))"
      ],
      "execution_count": 8,
      "outputs": [
        {
          "output_type": "stream",
          "text": [
            "(5000,)\n",
            "25\n"
          ],
          "name": "stdout"
        }
      ]
    },
    {
      "cell_type": "code",
      "metadata": {
        "id": "_a-AsEPVBtoz",
        "colab_type": "code",
        "colab": {
          "base_uri": "https://localhost:8080/",
          "height": 34
        },
        "outputId": "d93e2a85-fbfc-4cc1-cd1f-70668e3f8207"
      },
      "source": [
        "len(samples[:5][0])"
      ],
      "execution_count": 12,
      "outputs": [
        {
          "output_type": "execute_result",
          "data": {
            "text/plain": [
              "200"
            ]
          },
          "metadata": {
            "tags": []
          },
          "execution_count": 12
        }
      ]
    },
    {
      "cell_type": "code",
      "metadata": {
        "id": "mLGjwEFHB46O",
        "colab_type": "code",
        "colab": {
          "base_uri": "https://localhost:8080/",
          "height": 663
        },
        "outputId": "72536606-1d3e-417e-a3b7-8992eb08f1f0"
      },
      "source": [
        "samples[:2]"
      ],
      "execution_count": 14,
      "outputs": [
        {
          "output_type": "execute_result",
          "data": {
            "text/plain": [
              "[array([  10,   20,   30,   40,   50,   60,   70,   80,   90,  100,  110,\n",
              "         120,  130,  140,  150,  160,  170,  180,  190,  200,  210,  220,\n",
              "         230,  240,  250,  260,  270,  280,  290,  300,  310,  320,  330,\n",
              "         340,  350,  360,  370,  380,  390,  400,  410,  420,  430,  440,\n",
              "         450,  460,  470,  480,  490,  500,  510,  520,  530,  540,  550,\n",
              "         560,  570,  580,  590,  600,  610,  620,  630,  640,  650,  660,\n",
              "         670,  680,  690,  700,  710,  720,  730,  740,  750,  760,  770,\n",
              "         780,  790,  800,  810,  820,  830,  840,  850,  860,  870,  880,\n",
              "         890,  900,  910,  920,  930,  940,  950,  960,  970,  980,  990,\n",
              "        1000, 1010, 1020, 1030, 1040, 1050, 1060, 1070, 1080, 1090, 1100,\n",
              "        1110, 1120, 1130, 1140, 1150, 1160, 1170, 1180, 1190, 1200, 1210,\n",
              "        1220, 1230, 1240, 1250, 1260, 1270, 1280, 1290, 1300, 1310, 1320,\n",
              "        1330, 1340, 1350, 1360, 1370, 1380, 1390, 1400, 1410, 1420, 1430,\n",
              "        1440, 1450, 1460, 1470, 1480, 1490, 1500, 1510, 1520, 1530, 1540,\n",
              "        1550, 1560, 1570, 1580, 1590, 1600, 1610, 1620, 1630, 1640, 1650,\n",
              "        1660, 1670, 1680, 1690, 1700, 1710, 1720, 1730, 1740, 1750, 1760,\n",
              "        1770, 1780, 1790, 1800, 1810, 1820, 1830, 1840, 1850, 1860, 1870,\n",
              "        1880, 1890, 1900, 1910, 1920, 1930, 1940, 1950, 1960, 1970, 1980,\n",
              "        1990, 2000]),\n",
              " array([2010, 2020, 2030, 2040, 2050, 2060, 2070, 2080, 2090, 2100, 2110,\n",
              "        2120, 2130, 2140, 2150, 2160, 2170, 2180, 2190, 2200, 2210, 2220,\n",
              "        2230, 2240, 2250, 2260, 2270, 2280, 2290, 2300, 2310, 2320, 2330,\n",
              "        2340, 2350, 2360, 2370, 2380, 2390, 2400, 2410, 2420, 2430, 2440,\n",
              "        2450, 2460, 2470, 2480, 2490, 2500, 2510, 2520, 2530, 2540, 2550,\n",
              "        2560, 2570, 2580, 2590, 2600, 2610, 2620, 2630, 2640, 2650, 2660,\n",
              "        2670, 2680, 2690, 2700, 2710, 2720, 2730, 2740, 2750, 2760, 2770,\n",
              "        2780, 2790, 2800, 2810, 2820, 2830, 2840, 2850, 2860, 2870, 2880,\n",
              "        2890, 2900, 2910, 2920, 2930, 2940, 2950, 2960, 2970, 2980, 2990,\n",
              "        3000, 3010, 3020, 3030, 3040, 3050, 3060, 3070, 3080, 3090, 3100,\n",
              "        3110, 3120, 3130, 3140, 3150, 3160, 3170, 3180, 3190, 3200, 3210,\n",
              "        3220, 3230, 3240, 3250, 3260, 3270, 3280, 3290, 3300, 3310, 3320,\n",
              "        3330, 3340, 3350, 3360, 3370, 3380, 3390, 3400, 3410, 3420, 3430,\n",
              "        3440, 3450, 3460, 3470, 3480, 3490, 3500, 3510, 3520, 3530, 3540,\n",
              "        3550, 3560, 3570, 3580, 3590, 3600, 3610, 3620, 3630, 3640, 3650,\n",
              "        3660, 3670, 3680, 3690, 3700, 3710, 3720, 3730, 3740, 3750, 3760,\n",
              "        3770, 3780, 3790, 3800, 3810, 3820, 3830, 3840, 3850, 3860, 3870,\n",
              "        3880, 3890, 3900, 3910, 3920, 3930, 3940, 3950, 3960, 3970, 3980,\n",
              "        3990, 4000])]"
            ]
          },
          "metadata": {
            "tags": []
          },
          "execution_count": 14
        }
      ]
    },
    {
      "cell_type": "markdown",
      "metadata": {
        "id": "IbVK-Ys3CYwX",
        "colab_type": "text"
      },
      "source": [
        "We now have 25 subsequences of 200 time steps each."
      ]
    },
    {
      "cell_type": "markdown",
      "metadata": {
        "id": "xz_5OcmkCZgA",
        "colab_type": "text"
      },
      "source": [
        "### Reshape Subsequences"
      ]
    },
    {
      "cell_type": "markdown",
      "metadata": {
        "id": "0uUaycRYCb2p",
        "colab_type": "text"
      },
      "source": [
        "The LSTM needs data with the format of $[samples, timesteps, features]$. We have 25 samples, 200 time steps per sample, and 1 feature. \n",
        "\n",
        "First, we need to convert our list of arrays into a 2D NumPy array with the shape $[25, 200]$."
      ]
    },
    {
      "cell_type": "code",
      "metadata": {
        "id": "q3ajkmluCJRv",
        "colab_type": "code",
        "colab": {
          "base_uri": "https://localhost:8080/",
          "height": 68
        },
        "outputId": "7212540b-3c40-47b1-9cd1-4ac6880739a0"
      },
      "source": [
        "# define the dataset\n",
        "data = list()\n",
        "n = 5000\n",
        "for i in range(n):\n",
        "  data.append([i+1, (i+1) * 10])\n",
        "data = np.array(data)\n",
        "\n",
        "# drop time\n",
        "data = data[:, 1]\n",
        "print(data.shape)\n",
        "\n",
        "# split into samples (e.g. 5000/200 = 25)\n",
        "samples = list()\n",
        "length = 200\n",
        "\n",
        "# step over the 5,000 in jumps of 200\n",
        "for i in range(0, n , length):\n",
        "  sample = data[i: i + length]  # grab from i to i + 200\n",
        "  samples.append(sample)\n",
        "print(len(samples))\n",
        "\n",
        "# convert list of arrays into 2d array\n",
        "data = np.array(samples)\n",
        "print(data.shape)"
      ],
      "execution_count": 15,
      "outputs": [
        {
          "output_type": "stream",
          "text": [
            "(5000,)\n",
            "25\n",
            "(25, 200)\n"
          ],
          "name": "stdout"
        }
      ]
    },
    {
      "cell_type": "markdown",
      "metadata": {
        "id": "D8h6xdRHDhSw",
        "colab_type": "text"
      },
      "source": [
        "Now we have 25 rows and 200 columns. Interpreted in a machine learning context, this dataset has 25 samples and 200 features per sample.\n",
        "\n",
        "Next, we can use the reshape() function to add one additional dimension for our single feature and use the existing columns as time steps instead."
      ]
    },
    {
      "cell_type": "code",
      "metadata": {
        "id": "XtVdYk5GDVxS",
        "colab_type": "code",
        "colab": {
          "base_uri": "https://localhost:8080/",
          "height": 34
        },
        "outputId": "fdb05035-4ec3-436d-d5e8-1d152967aea4"
      },
      "source": [
        "# reshape into [samples, timesteps, features]\n",
        "data = data.reshape((len(samples), length, 1))\n",
        "print(data.shape)"
      ],
      "execution_count": 16,
      "outputs": [
        {
          "output_type": "stream",
          "text": [
            "(25, 200, 1)\n"
          ],
          "name": "stdout"
        }
      ]
    },
    {
      "cell_type": "markdown",
      "metadata": {
        "id": "PLR6f3RUEMTj",
        "colab_type": "text"
      },
      "source": [
        "And that is it. The data can now be used as an input (X) to an LSTM model, or even a CNN model."
      ]
    }
  ]
}